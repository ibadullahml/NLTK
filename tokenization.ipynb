{
 "cells": [
  {
   "cell_type": "code",
   "execution_count": 1,
   "id": "c6fe76dd",
   "metadata": {},
   "outputs": [],
   "source": [
    "import nltk"
   ]
  },
  {
   "cell_type": "code",
   "execution_count": 2,
   "id": "ecb4fdd3",
   "metadata": {},
   "outputs": [],
   "source": [
    "paragraph = \"There are millions and millions of our people who hardly get one meal a day. Is this civilization? Is this the aim of Pakistan? Do you visualize that millions have been exploited and cannot get one meal a day! If that is the idea of Pakistan. I would not have it.(Presidential Address Delivered at the Thirtieth Session of All-India Muslim Leauge, 24 April, 1943.).You are free to go to your temples, you are free to go to your mosques or to any other place of worship in this state of Pakistan. You may belong to any religion or caste or creed, that has nothing to do with the business of State.(Presidential Address to the Constituent Assembly of Pakistan 11 August, 1947).This is your government. It is quite different from its predecessors. Therefore, appreciate when a good thing is done. Certainly criticize fearlessly, when a wrong thing is done. I welcome criticism, but it must be honest and constructive.(Address at Edwards College, Peshawar 18 April, 1948).\""
   ]
  },
  {
   "cell_type": "code",
   "execution_count": 3,
   "id": "75fc384e",
   "metadata": {},
   "outputs": [
    {
     "data": {
      "text/plain": [
       "'There are millions and millions of our people who hardly get one meal a day. Is this civilization? Is this the aim of Pakistan? Do you visualize that millions have been exploited and cannot get one meal a day! If that is the idea of Pakistan. I would not have it.(Presidential Address Delivered at the Thirtieth Session of All-India Muslim Leauge, 24 April, 1943.).You are free to go to your temples, you are free to go to your mosques or to any other place of worship in this state of Pakistan. You may belong to any religion or caste or creed, that has nothing to do with the business of State.(Presidential Address to the Constituent Assembly of Pakistan 11 August, 1947).This is your government. It is quite different from its predecessors. Therefore, appreciate when a good thing is done. Certainly criticize fearlessly, when a wrong thing is done. I welcome criticism, but it must be honest and constructive.(Address at Edwards College, Peshawar 18 April, 1948).'"
      ]
     },
     "execution_count": 3,
     "metadata": {},
     "output_type": "execute_result"
    }
   ],
   "source": [
    "paragraph"
   ]
  },
  {
   "cell_type": "code",
   "execution_count": 5,
   "id": "29995328",
   "metadata": {},
   "outputs": [
    {
     "data": {
      "text/plain": [
       "['There are millions and millions of our people who hardly get one meal a day.',\n",
       " 'Is this civilization?',\n",
       " 'Is this the aim of Pakistan?',\n",
       " 'Do you visualize that millions have been exploited and cannot get one meal a day!',\n",
       " 'If that is the idea of Pakistan.',\n",
       " 'I would not have it.',\n",
       " '(Presidential Address Delivered at the Thirtieth Session of All-India Muslim Leauge, 24 April, 1943.',\n",
       " ').You are free to go to your temples, you are free to go to your mosques or to any other place of worship in this state of Pakistan.',\n",
       " 'You may belong to any religion or caste or creed, that has nothing to do with the business of State.',\n",
       " '(Presidential Address to the Constituent Assembly of Pakistan 11 August, 1947).This is your government.',\n",
       " 'It is quite different from its predecessors.',\n",
       " 'Therefore, appreciate when a good thing is done.',\n",
       " 'Certainly criticize fearlessly, when a wrong thing is done.',\n",
       " 'I welcome criticism, but it must be honest and constructive.',\n",
       " '(Address at Edwards College, Peshawar 18 April, 1948).']"
      ]
     },
     "execution_count": 5,
     "metadata": {},
     "output_type": "execute_result"
    }
   ],
   "source": [
    "sentence = nltk.sent_tokenize(paragraph)\n",
    "sentence"
   ]
  },
  {
   "cell_type": "code",
   "execution_count": 6,
   "id": "d36a901c",
   "metadata": {},
   "outputs": [
    {
     "data": {
      "text/plain": [
       "15"
      ]
     },
     "execution_count": 6,
     "metadata": {},
     "output_type": "execute_result"
    }
   ],
   "source": [
    "len(sentence)"
   ]
  },
  {
   "cell_type": "code",
   "execution_count": 7,
   "id": "58db8f03",
   "metadata": {},
   "outputs": [
    {
     "data": {
      "text/plain": [
       "['There',\n",
       " 'are',\n",
       " 'millions',\n",
       " 'and',\n",
       " 'millions',\n",
       " 'of',\n",
       " 'our',\n",
       " 'people',\n",
       " 'who',\n",
       " 'hardly',\n",
       " 'get',\n",
       " 'one',\n",
       " 'meal',\n",
       " 'a',\n",
       " 'day',\n",
       " '.',\n",
       " 'Is',\n",
       " 'this',\n",
       " 'civilization',\n",
       " '?',\n",
       " 'Is',\n",
       " 'this',\n",
       " 'the',\n",
       " 'aim',\n",
       " 'of',\n",
       " 'Pakistan',\n",
       " '?',\n",
       " 'Do',\n",
       " 'you',\n",
       " 'visualize',\n",
       " 'that',\n",
       " 'millions',\n",
       " 'have',\n",
       " 'been',\n",
       " 'exploited',\n",
       " 'and',\n",
       " 'can',\n",
       " 'not',\n",
       " 'get',\n",
       " 'one',\n",
       " 'meal',\n",
       " 'a',\n",
       " 'day',\n",
       " '!',\n",
       " 'If',\n",
       " 'that',\n",
       " 'is',\n",
       " 'the',\n",
       " 'idea',\n",
       " 'of',\n",
       " 'Pakistan',\n",
       " '.',\n",
       " 'I',\n",
       " 'would',\n",
       " 'not',\n",
       " 'have',\n",
       " 'it',\n",
       " '.',\n",
       " '(',\n",
       " 'Presidential',\n",
       " 'Address',\n",
       " 'Delivered',\n",
       " 'at',\n",
       " 'the',\n",
       " 'Thirtieth',\n",
       " 'Session',\n",
       " 'of',\n",
       " 'All-India',\n",
       " 'Muslim',\n",
       " 'Leauge',\n",
       " ',',\n",
       " '24',\n",
       " 'April',\n",
       " ',',\n",
       " '1943',\n",
       " '.',\n",
       " ')',\n",
       " '.You',\n",
       " 'are',\n",
       " 'free',\n",
       " 'to',\n",
       " 'go',\n",
       " 'to',\n",
       " 'your',\n",
       " 'temples',\n",
       " ',',\n",
       " 'you',\n",
       " 'are',\n",
       " 'free',\n",
       " 'to',\n",
       " 'go',\n",
       " 'to',\n",
       " 'your',\n",
       " 'mosques',\n",
       " 'or',\n",
       " 'to',\n",
       " 'any',\n",
       " 'other',\n",
       " 'place',\n",
       " 'of',\n",
       " 'worship',\n",
       " 'in',\n",
       " 'this',\n",
       " 'state',\n",
       " 'of',\n",
       " 'Pakistan',\n",
       " '.',\n",
       " 'You',\n",
       " 'may',\n",
       " 'belong',\n",
       " 'to',\n",
       " 'any',\n",
       " 'religion',\n",
       " 'or',\n",
       " 'caste',\n",
       " 'or',\n",
       " 'creed',\n",
       " ',',\n",
       " 'that',\n",
       " 'has',\n",
       " 'nothing',\n",
       " 'to',\n",
       " 'do',\n",
       " 'with',\n",
       " 'the',\n",
       " 'business',\n",
       " 'of',\n",
       " 'State',\n",
       " '.',\n",
       " '(',\n",
       " 'Presidential',\n",
       " 'Address',\n",
       " 'to',\n",
       " 'the',\n",
       " 'Constituent',\n",
       " 'Assembly',\n",
       " 'of',\n",
       " 'Pakistan',\n",
       " '11',\n",
       " 'August',\n",
       " ',',\n",
       " '1947',\n",
       " ')',\n",
       " '.This',\n",
       " 'is',\n",
       " 'your',\n",
       " 'government',\n",
       " '.',\n",
       " 'It',\n",
       " 'is',\n",
       " 'quite',\n",
       " 'different',\n",
       " 'from',\n",
       " 'its',\n",
       " 'predecessors',\n",
       " '.',\n",
       " 'Therefore',\n",
       " ',',\n",
       " 'appreciate',\n",
       " 'when',\n",
       " 'a',\n",
       " 'good',\n",
       " 'thing',\n",
       " 'is',\n",
       " 'done',\n",
       " '.',\n",
       " 'Certainly',\n",
       " 'criticize',\n",
       " 'fearlessly',\n",
       " ',',\n",
       " 'when',\n",
       " 'a',\n",
       " 'wrong',\n",
       " 'thing',\n",
       " 'is',\n",
       " 'done',\n",
       " '.',\n",
       " 'I',\n",
       " 'welcome',\n",
       " 'criticism',\n",
       " ',',\n",
       " 'but',\n",
       " 'it',\n",
       " 'must',\n",
       " 'be',\n",
       " 'honest',\n",
       " 'and',\n",
       " 'constructive',\n",
       " '.',\n",
       " '(',\n",
       " 'Address',\n",
       " 'at',\n",
       " 'Edwards',\n",
       " 'College',\n",
       " ',',\n",
       " 'Peshawar',\n",
       " '18',\n",
       " 'April',\n",
       " ',',\n",
       " '1948',\n",
       " ')',\n",
       " '.']"
      ]
     },
     "execution_count": 7,
     "metadata": {},
     "output_type": "execute_result"
    }
   ],
   "source": [
    "words = nltk.word_tokenize(paragraph)\n",
    "words"
   ]
  },
  {
   "cell_type": "code",
   "execution_count": 8,
   "id": "a8f68eed",
   "metadata": {},
   "outputs": [
    {
     "data": {
      "text/plain": [
       "202"
      ]
     },
     "execution_count": 8,
     "metadata": {},
     "output_type": "execute_result"
    }
   ],
   "source": [
    "len(words)"
   ]
  },
  {
   "cell_type": "code",
   "execution_count": 9,
   "id": "c5123b1a",
   "metadata": {},
   "outputs": [
    {
     "name": "stdout",
     "output_type": "stream",
     "text": [
      "Counter({'.': 12, ',': 10, 'of': 8, 'to': 8, 'the': 5, 'is': 5, 'a': 4, 'Pakistan': 4, 'are': 3, 'millions': 3, 'and': 3, 'this': 3, 'that': 3, '(': 3, 'Address': 3, ')': 3, 'your': 3, 'or': 3, 'get': 2, 'one': 2, 'meal': 2, 'day': 2, 'Is': 2, '?': 2, 'you': 2, 'have': 2, 'not': 2, 'I': 2, 'it': 2, 'Presidential': 2, 'at': 2, 'April': 2, 'free': 2, 'go': 2, 'any': 2, 'when': 2, 'thing': 2, 'done': 2, 'There': 1, 'our': 1, 'people': 1, 'who': 1, 'hardly': 1, 'civilization': 1, 'aim': 1, 'Do': 1, 'visualize': 1, 'been': 1, 'exploited': 1, 'can': 1, '!': 1, 'If': 1, 'idea': 1, 'would': 1, 'Delivered': 1, 'Thirtieth': 1, 'Session': 1, 'All-India': 1, 'Muslim': 1, 'Leauge': 1, '24': 1, '1943': 1, '.You': 1, 'temples': 1, 'mosques': 1, 'other': 1, 'place': 1, 'worship': 1, 'in': 1, 'state': 1, 'You': 1, 'may': 1, 'belong': 1, 'religion': 1, 'caste': 1, 'creed': 1, 'has': 1, 'nothing': 1, 'do': 1, 'with': 1, 'business': 1, 'State': 1, 'Constituent': 1, 'Assembly': 1, '11': 1, 'August': 1, '1947': 1, '.This': 1, 'government': 1, 'It': 1, 'quite': 1, 'different': 1, 'from': 1, 'its': 1, 'predecessors': 1, 'Therefore': 1, 'appreciate': 1, 'good': 1, 'Certainly': 1, 'criticize': 1, 'fearlessly': 1, 'wrong': 1, 'welcome': 1, 'criticism': 1, 'but': 1, 'must': 1, 'be': 1, 'honest': 1, 'constructive': 1, 'Edwards': 1, 'College': 1, 'Peshawar': 1, '18': 1, '1948': 1})\n"
     ]
    }
   ],
   "source": [
    "from collections import Counter\n",
    "\n",
    "Counts = Counter(words)\n",
    "print(Counts)"
   ]
  },
  {
   "cell_type": "code",
   "execution_count": 10,
   "id": "9399a75c",
   "metadata": {},
   "outputs": [
    {
     "data": {
      "text/plain": [
       "3"
      ]
     },
     "execution_count": 10,
     "metadata": {},
     "output_type": "execute_result"
    }
   ],
   "source": [
    "words.count('that')"
   ]
  },
  {
   "cell_type": "code",
   "execution_count": null,
   "id": "3d898b39",
   "metadata": {},
   "outputs": [],
   "source": []
  }
 ],
 "metadata": {
  "kernelspec": {
   "display_name": "Python 3",
   "language": "python",
   "name": "python3"
  },
  "language_info": {
   "codemirror_mode": {
    "name": "ipython",
    "version": 3
   },
   "file_extension": ".py",
   "mimetype": "text/x-python",
   "name": "python",
   "nbconvert_exporter": "python",
   "pygments_lexer": "ipython3",
   "version": "3.8.8"
  }
 },
 "nbformat": 4,
 "nbformat_minor": 5
}
